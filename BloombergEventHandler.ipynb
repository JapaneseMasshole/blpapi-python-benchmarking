{
 "cells": [
  {
   "cell_type": "code",
   "execution_count": 1,
   "metadata": {},
   "outputs": [],
   "source": [
    "import blpapi as bp\n",
    "from pprint import pprint,pformat\n",
    "from datetime import datetime\n",
    "import logging as pylogging\n",
    "import threading\n",
    "from typing import Dict, List, Any, Optional\n",
    "import json\n",
    "import os\n",
    "import sys\n",
    "import time\n",
    "from datetime import timezone\n"
   ]
  },
  {
   "cell_type": "code",
   "execution_count": 2,
   "metadata": {},
   "outputs": [
    {
     "name": "stdout",
     "output_type": "stream",
     "text": [
      "env: BLP_API_LOG_LEVEL=\"DEBUG\"\n",
      "env: BLP_API_LOG_FILE=\"logs/blpapi_native.log\"\n"
     ]
    }
   ],
   "source": [
    "%set_env BLP_API_LOG_LEVEL=\"DEBUG\"\n",
    "%set_env BLP_API_LOG_FILE=\"logs/blpapi_native.log\""
   ]
  },
  {
   "cell_type": "code",
   "execution_count": 3,
   "metadata": {},
   "outputs": [],
   "source": [
    "pylogging.basicConfig(\n",
    "    level=pylogging.DEBUG,\n",
    "    format='[%(asctime)s] - %(process)s {%(pathname)s:%(lineno)d} - %(name)s - %(levelname)s - %(message)s',\n",
    "    datefmt='%Y-%m-%d %H:%M:%S',\n",
    "    handlers=[\n",
    "        pylogging.FileHandler('logs/BloombergEventHandler.log',mode='w')\n",
    "    ]\n",
    ")\n",
    "LOG = pylogging.getLogger(__name__)"
   ]
  },
  {
   "cell_type": "code",
   "execution_count": 4,
   "metadata": {},
   "outputs": [],
   "source": [
    "class BloombergEventHandler:\n",
    "    def __init__(self):\n",
    "        self.lock = threading.Lock()\n",
    "        self.msg_list = []\n",
    "    \n",
    "    def processSubscriptionDataEvent(self, event: bp.Event,session: bp.Session) -> None:\n",
    "       if event.eventType() == bp.Event.SUBSCRIPTION_DATA:\n",
    "           for msg in event:\n",
    "                try:\n",
    "                   msg_dict = msg.toPy()\n",
    "                   sec = msg.correlationId().value()\n",
    "                   msg_dict[\"TICKER\"] = sec\n",
    "                   msg_dict['receive_time'] = msg.timeReceived(timezone.utc)\n",
    "\n",
    "                   LOG.info(f\"Received message: {sec} - {msg}\")\n",
    "                   with self.lock:\n",
    "                       self.msg_list.append(msg_dict)\n",
    "                except Exception as e:\n",
    "                    LOG.error(f\"Error processing message: {str(e)}\", exc_info=True)\n",
    "                   "
   ]
  },
  {
   "cell_type": "code",
   "execution_count": 5,
   "metadata": {},
   "outputs": [],
   "source": [
    "with open(\"config/bpipe_config.local.json\", 'r') as f:\n",
    "    _config = json.load(f)\n",
    "LOG.debug(f\"Loaded Bloomberg configuration: {pformat(_config)}\")\n",
    "\n",
    "_sessionOptions = bp.SessionOptions()\n",
    "for i, host in enumerate(_config['hosts']):\n",
    "    _sessionOptions.setServerAddress(host['addr'], host['port'], i)\n",
    "\n",
    "_sessionOptions.autoRestartOnDisconnection = True\n",
    "_sessionOptions.numStartAttempts = 10\n",
    "\n",
    "if 'appname' not in _config or not _config['appname']:\n",
    "    raise ValueError(\"ApplicationName is required in the configuration\")\n",
    "\n",
    "authOpts = bp.AuthOptions.createWithApp(appName=_config['appname'])\n",
    "_sessionOptions.setSessionIdentityOptions(authOpts)\n",
    "\n",
    "_sessionOptions.setRecordSubscriptionDataReceiveTimes(True)\n",
    "\n",
    "if \"tlsInfo\" in _config:\n",
    "    tlsInfo = _config[\"tlsInfo\"]\n",
    "    pk12Blob = None\n",
    "    pk7Blob = None\n",
    "    with open(tlsInfo['pk12path'], 'rb') as pk12File:\n",
    "        pk12Blob = pk12File.read()\n",
    "    with open(tlsInfo['pk7path'], 'rb') as pk7File:\n",
    "        pk7Blob = pk7File.read()\n",
    "\n",
    "    _sessionOptions.setTlsOptions(bp.TlsOptions.createFromBlobs(pk12Blob, tlsInfo['password'], pk7Blob))\n",
    "\n",
    "\n",
    "_sessionOptions.setMaxEventQueueSize(500000)"
   ]
  },
  {
   "cell_type": "code",
   "execution_count": null,
   "metadata": {},
   "outputs": [],
   "source": []
  },
  {
   "cell_type": "markdown",
   "metadata": {},
   "source": []
  },
  {
   "cell_type": "code",
   "execution_count": 6,
   "metadata": {},
   "outputs": [
    {
     "ename": "",
     "evalue": "",
     "output_type": "error",
     "traceback": [
      "\u001b[1;31mThe Kernel crashed while executing code in the current cell or a previous cell. \n",
      "\u001b[1;31mPlease review the code in the cell(s) to identify a possible cause of the failure. \n",
      "\u001b[1;31mClick <a href='https://aka.ms/vscodeJupyterKernelCrash'>here</a> for more info. \n",
      "\u001b[1;31mView Jupyter <a href='command:jupyter.viewOutput'>log</a> for further details."
     ]
    }
   ],
   "source": [
    "eventHandler = BloombergEventHandler()\n",
    "eventDispatcher = bp.EventDispatcher(4)\n",
    "eventDispatcher.start()\n",
    "\n",
    "session = bp.Session(_sessionOptions,eventHandler,eventDispatcher)\n",
    "session.start()"
   ]
  },
  {
   "cell_type": "code",
   "execution_count": 9,
   "metadata": {},
   "outputs": [
    {
     "ename": "NameError",
     "evalue": "name 'session' is not defined",
     "output_type": "error",
     "traceback": [
      "\u001b[0;31m---------------------------------------------------------------------------\u001b[0m",
      "\u001b[0;31mNameError\u001b[0m                                 Traceback (most recent call last)",
      "Cell \u001b[0;32mIn[9], line 1\u001b[0m\n\u001b[0;32m----> 1\u001b[0m \u001b[43msession\u001b[49m\u001b[38;5;241m.\u001b[39mstop()\n",
      "\u001b[0;31mNameError\u001b[0m: name 'session' is not defined"
     ]
    }
   ],
   "source": []
  },
  {
   "cell_type": "code",
   "execution_count": null,
   "metadata": {},
   "outputs": [],
   "source": []
  }
 ],
 "metadata": {
  "kernelspec": {
   "display_name": ".venv",
   "language": "python",
   "name": "python3"
  },
  "language_info": {
   "codemirror_mode": {
    "name": "ipython",
    "version": 3
   },
   "file_extension": ".py",
   "mimetype": "text/x-python",
   "name": "python",
   "nbconvert_exporter": "python",
   "pygments_lexer": "ipython3",
   "version": "3.11.10"
  }
 },
 "nbformat": 4,
 "nbformat_minor": 2
}
