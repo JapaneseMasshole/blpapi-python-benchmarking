{
 "cells": [
  {
   "cell_type": "code",
   "execution_count": 1,
   "metadata": {},
   "outputs": [],
   "source": [
    "import blpapi as bp\n",
    "from pprint import pprint,pformat\n",
    "from datetime import datetime\n",
    "import logging as pylogging\n",
    "import threading\n",
    "from typing import Dict, List, Any, Optional\n",
    "import json\n",
    "import os\n",
    "import sys\n",
    "import time\n"
   ]
  },
  {
   "cell_type": "code",
   "execution_count": 2,
   "metadata": {},
   "outputs": [],
   "source": [
    "pylogging.basicConfig(\n",
    "    level=pylogging.INFO,\n",
    "    format='[%(asctime)s] - %(process)s {%(pathname)s:%(lineno)d} - %(name)s - %(levelname)s - %(message)s',\n",
    "    datefmt='%Y-%m-%d %H:%M:%S',\n",
    "    handlers=[\n",
    "        pylogging.FileHandler('logs/BloombergEventHandler.log',mode='w')\n",
    "    ]\n",
    ")\n",
    "LOG = pylogging.getLogger(__name__)"
   ]
  },
  {
   "cell_type": "code",
   "execution_count": 3,
   "metadata": {},
   "outputs": [],
   "source": [
    "class BloombergEventHandler:\n",
    "    _instance: Optional['BloombergEventHandler'] = None\n",
    "    \n",
    "\n",
    "\n",
    "    def __new__(cls, config_path: str) -> 'BloombergEventHandler':\n",
    "        if cls._instance is None:\n",
    "            LOG.info(\"Creating new BloombergEventHandler instance\")\n",
    "            cls._instance = super().__new__(cls)\n",
    "            cls._instance._initialized = False\n",
    "            return cls._instance\n",
    "\n",
    "    def __init__(self, config_path: str):\n",
    "        if self._initialized:\n",
    "            LOG.debug(\"BloombergEventHandler already initialized, skipping initialization\")\n",
    "            return\n",
    "            \n",
    "        LOG.info(f\"Initializing BloombergEventHandler with config: {config_path}\")\n",
    "\n",
    "        self.lock = threading.Lock()\n",
    "        \n",
    "        self._session = None\n",
    "        self._sessionOptions = None\n",
    "        self._subscription_list = bp.SubscriptionList()\n",
    "\n",
    "        try:\n",
    "            # Load Bloomberg API config\n",
    "            with open(config_path, 'r') as f:\n",
    "                self._config = json.load(f)\n",
    "            LOG.debug(f\"Loaded Bloomberg configuration: {pformat(self._config)}\")\n",
    "\n",
    "            self._sessionOptions = bp.SessionOptions()\n",
    "            for i, host in enumerate(self._config['hosts']):\n",
    "                self._sessionOptions.setServerAddress(host['addr'], host['port'], i)\n",
    "            \n",
    "            if 'appname' not in self._config or not self._config['appname']:\n",
    "                raise ValueError(\"ApplicationName is required in the configuration\")\n",
    "            \n",
    "            authOpts = bp.AuthOptions.createWithApp(appName=self._config['appname'])\n",
    "            self._sessionOptions.setSessionIdentityOptions(authOpts)\n",
    "\n",
    "            if \"tlsInfo\" in self._config:\n",
    "                tlsInfo = self._config[\"tlsInfo\"]\n",
    "                pk12Blob = None\n",
    "                pk7Blob = None\n",
    "                with open(tlsInfo['pk12path'], 'rb') as pk12File:\n",
    "                    pk12Blob = pk12File.read()\n",
    "                with open(tlsInfo['pk7path'], 'rb') as pk7File:\n",
    "                    pk7Blob = pk7File.read()\n",
    "\n",
    "                self._sessionOptions.setTlsOptions(bp.TlsOptions.createFromBlobs(pk12Blob, tlsInfo['password'], pk7Blob))\n",
    "\n",
    "            self._session = bp.Session(self._sessionOptions, self.eventHandler)\n",
    "\n",
    "            self._initialized = True\n",
    "            LOG.info(\"SubscriptionHandler initialization completed\")\n",
    "\n",
    "        except Exception as e:\n",
    "            LOG.error(f\"Error initializing SubscriptionHandler: {str(e)}\", exc_info=True)\n",
    "            raise\n",
    "\n",
    "    def eventHandler(self, event: bp.Event, session: bp.Session) -> None:\n",
    "        try:\n",
    "            event_type = event.eventType()\n",
    "            \n",
    "            for msg in event:\n",
    "                LOG.info(f\"Received message: {msg}\")\n",
    "        \n",
    "        except Exception as e:\n",
    "            LOG.error(f\"Error in eventHandler: {str(e)}\", exc_info=True)\n",
    "\n",
    "\n",
    "    def start(self) -> None:\n",
    "        LOG.info(\"Starting SubscriptionHandler session\")\n",
    "        self._session.startAsync()\n",
    "\n",
    "    def stop(self) -> None:\n",
    "        LOG.info(\"Stopping SubscriptionHandler\")\n",
    "        try:\n",
    "            self._session.stopAsync()\n",
    "        except Exception as e:\n",
    "            LOG.error(f\"Error stopping SubscriptionHandler: {str(e)}\", exc_info=True)\n"
   ]
  },
  {
   "cell_type": "code",
   "execution_count": null,
   "metadata": {},
   "outputs": [],
   "source": [
    "bpipeHandler = BloombergEventHandler(\"config/bpipe_config.local.json\")\n",
    "bpipeHandler.start()"
   ]
  },
  {
   "cell_type": "code",
   "execution_count": 5,
   "metadata": {},
   "outputs": [],
   "source": [
    "bpipeHandler.stop()"
   ]
  },
  {
   "cell_type": "code",
   "execution_count": 7,
   "metadata": {},
   "outputs": [],
   "source": [
    "bpipeHandler.stop()"
   ]
  },
  {
   "cell_type": "code",
   "execution_count": null,
   "metadata": {},
   "outputs": [],
   "source": []
  }
 ],
 "metadata": {
  "kernelspec": {
   "display_name": ".venv",
   "language": "python",
   "name": "python3"
  },
  "language_info": {
   "codemirror_mode": {
    "name": "ipython",
    "version": 3
   },
   "file_extension": ".py",
   "mimetype": "text/x-python",
   "name": "python",
   "nbconvert_exporter": "python",
   "pygments_lexer": "ipython3",
   "version": "3.11.10"
  }
 },
 "nbformat": 4,
 "nbformat_minor": 2
}
